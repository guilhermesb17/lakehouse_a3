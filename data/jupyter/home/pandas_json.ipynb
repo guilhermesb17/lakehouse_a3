{
 "cells": [
  {
   "cell_type": "code",
   "execution_count": 1,
   "id": "98a09917-f6b3-441d-85a2-731de8d083b5",
   "metadata": {},
   "outputs": [],
   "source": [
    "import pandas as pd\n",
    "import json"
   ]
  },
  {
   "cell_type": "code",
   "execution_count": 2,
   "id": "f034f5a1-efca-47e9-8e4e-1d5dc3193968",
   "metadata": {},
   "outputs": [],
   "source": [
    "with open('teste.json', 'r') as json_file:\n",
    "    dados = json.load(json_file)"
   ]
  },
  {
   "cell_type": "code",
   "execution_count": 3,
   "id": "8f5dcd79-3207-40f1-ae46-d317bff8b538",
   "metadata": {},
   "outputs": [
    {
     "data": {
      "text/html": [
       "<div>\n",
       "<style scoped>\n",
       "    .dataframe tbody tr th:only-of-type {\n",
       "        vertical-align: middle;\n",
       "    }\n",
       "\n",
       "    .dataframe tbody tr th {\n",
       "        vertical-align: top;\n",
       "    }\n",
       "\n",
       "    .dataframe thead th {\n",
       "        text-align: right;\n",
       "    }\n",
       "</style>\n",
       "<table border=\"1\" class=\"dataframe\">\n",
       "  <thead>\n",
       "    <tr style=\"text-align: right;\">\n",
       "      <th></th>\n",
       "      <th>data</th>\n",
       "      <th>vacinacao</th>\n",
       "    </tr>\n",
       "  </thead>\n",
       "  <tbody>\n",
       "    <tr>\n",
       "      <th>0</th>\n",
       "      <td>2023-10-25</td>\n",
       "      <td>[{'cidade': 'São Paulo', 'estado': 'SP', 'tota...</td>\n",
       "    </tr>\n",
       "  </tbody>\n",
       "</table>\n",
       "</div>"
      ],
      "text/plain": [
       "         data                                          vacinacao\n",
       "0  2023-10-25  [{'cidade': 'São Paulo', 'estado': 'SP', 'tota..."
      ]
     },
     "execution_count": 3,
     "metadata": {},
     "output_type": "execute_result"
    }
   ],
   "source": [
    "df = pd.json_normalize(dados)\n",
    "df"
   ]
  },
  {
   "cell_type": "code",
   "execution_count": 4,
   "id": "8a21b163-9dd4-4f98-8bc3-f991fa554da7",
   "metadata": {},
   "outputs": [
    {
     "name": "stdout",
     "output_type": "stream",
     "text": [
      "{'data': '2023-10-25', 'vacinacao': [{'cidade': 'São Paulo', 'estado': 'SP', 'total_vacinados': 12000000, 'doses': {'primeira_dose': 11500000, 'segunda_dose': 11000000, 'dose_unica': 200000, 'terceira_dose': 1500000}, 'vacinados_por_idade': {'18-24': 1500000, '25-34': 3000000, '35-44': 2500000, '45-54': 2000000, '55+': 3000000}}, {'cidade': 'Rio de Janeiro', 'estado': 'RJ', 'total_vacinados': 9000000, 'doses': {'primeira_dose': 8500000, 'segunda_dose': 8000000, 'dose_unica': 150000, 'terceira_dose': 1000000}, 'vacinados_por_idade': {'18-24': 1000000, '25-34': 2500000, '35-44': 2000000, '45-54': 1500000, '55+': 2000000}}]}\n"
     ]
    }
   ],
   "source": [
    "print(dados)"
   ]
  },
  {
   "cell_type": "code",
   "execution_count": 7,
   "id": "f5c8fbfc-0369-4826-9124-f80c3fc9341f",
   "metadata": {},
   "outputs": [],
   "source": [
    "data_list = []\n",
    "\n",
    "for vacinacao_data in dados.get('vacinacao', []):\n",
    "    data = dados.get('data', '')\n",
    "    cidade = vacinacao_data.get('cidade', '')\n",
    "    estado = vacinacao_data.get('estado', '')\n",
    "    total_vacinados = vacinacao_data.get('total_vacinados', 0)\n",
    "    doses = vacinacao_data.get('doses', {})\n",
    "    primeira_dose = doses.get('primeira_dose', 0)\n",
    "    segunda_dose = doses.get('segunda_dose', 0)\n",
    "    dose_unica = doses.get('dose_unica', 0)\n",
    "    terceira_dose = doses.get('terceira_dose', 0)\n",
    "    vacinados_por_idade = vacinacao_data.get('vacinados_por_idade', {})\n",
    "    idade_18_24 = vacinados_por_idade.get('18-24', 0)\n",
    "    idade_25_34 = vacinados_por_idade.get('25-34', 0)\n",
    "    idade_35_44 = vacinados_por_idade.get('35-44', 0)\n",
    "    idade_45_54 = vacinados_por_idade.get('45-54', 0)\n",
    "    idade_55_plus = vacinados_por_idade.get('55+', 0)\n",
    "\n",
    "    data_list.append({\n",
    "        'data': data,\n",
    "        'cidade': cidade,\n",
    "        'estado': estado,\n",
    "        'total_vacinados': total_vacinados,\n",
    "        'primeira_dose': primeira_dose,\n",
    "        'segunda_dose': segunda_dose,\n",
    "        'dose_unica': dose_unica,\n",
    "        'terceira_dose': terceira_dose,\n",
    "        'idade_18-24': idade_18_24,\n",
    "        'idade_25-34': idade_25_34,\n",
    "        'idade_35-44': idade_35_44,\n",
    "        'idade_45-54': idade_45_54,\n",
    "        'idade_55+': idade_55_plus\n",
    "    })\n",
    "\n",
    "\n",
    "novo_df = pd.DataFrame(data_list)"
   ]
  },
  {
   "cell_type": "code",
   "execution_count": 8,
   "id": "cde3e282-9aa5-4499-bb00-01e0e8e21b3b",
   "metadata": {},
   "outputs": [
    {
     "data": {
      "text/html": [
       "<div>\n",
       "<style scoped>\n",
       "    .dataframe tbody tr th:only-of-type {\n",
       "        vertical-align: middle;\n",
       "    }\n",
       "\n",
       "    .dataframe tbody tr th {\n",
       "        vertical-align: top;\n",
       "    }\n",
       "\n",
       "    .dataframe thead th {\n",
       "        text-align: right;\n",
       "    }\n",
       "</style>\n",
       "<table border=\"1\" class=\"dataframe\">\n",
       "  <thead>\n",
       "    <tr style=\"text-align: right;\">\n",
       "      <th></th>\n",
       "      <th>data</th>\n",
       "      <th>cidade</th>\n",
       "      <th>estado</th>\n",
       "      <th>total_vacinados</th>\n",
       "      <th>primeira_dose</th>\n",
       "      <th>segunda_dose</th>\n",
       "      <th>dose_unica</th>\n",
       "      <th>terceira_dose</th>\n",
       "      <th>idade_18-24</th>\n",
       "      <th>idade_25-34</th>\n",
       "      <th>idade_35-44</th>\n",
       "      <th>idade_45-54</th>\n",
       "      <th>idade_55+</th>\n",
       "    </tr>\n",
       "  </thead>\n",
       "  <tbody>\n",
       "    <tr>\n",
       "      <th>0</th>\n",
       "      <td>2023-10-25</td>\n",
       "      <td>São Paulo</td>\n",
       "      <td>SP</td>\n",
       "      <td>12000000</td>\n",
       "      <td>11500000</td>\n",
       "      <td>11000000</td>\n",
       "      <td>200000</td>\n",
       "      <td>1500000</td>\n",
       "      <td>1500000</td>\n",
       "      <td>3000000</td>\n",
       "      <td>2500000</td>\n",
       "      <td>2000000</td>\n",
       "      <td>3000000</td>\n",
       "    </tr>\n",
       "    <tr>\n",
       "      <th>1</th>\n",
       "      <td>2023-10-25</td>\n",
       "      <td>Rio de Janeiro</td>\n",
       "      <td>RJ</td>\n",
       "      <td>9000000</td>\n",
       "      <td>8500000</td>\n",
       "      <td>8000000</td>\n",
       "      <td>150000</td>\n",
       "      <td>1000000</td>\n",
       "      <td>1000000</td>\n",
       "      <td>2500000</td>\n",
       "      <td>2000000</td>\n",
       "      <td>1500000</td>\n",
       "      <td>2000000</td>\n",
       "    </tr>\n",
       "  </tbody>\n",
       "</table>\n",
       "</div>"
      ],
      "text/plain": [
       "         data          cidade estado  total_vacinados  primeira_dose  \\\n",
       "0  2023-10-25       São Paulo     SP         12000000       11500000   \n",
       "1  2023-10-25  Rio de Janeiro     RJ          9000000        8500000   \n",
       "\n",
       "   segunda_dose  dose_unica  terceira_dose  idade_18-24  idade_25-34  \\\n",
       "0      11000000      200000        1500000      1500000      3000000   \n",
       "1       8000000      150000        1000000      1000000      2500000   \n",
       "\n",
       "   idade_35-44  idade_45-54  idade_55+  \n",
       "0      2500000      2000000    3000000  \n",
       "1      2000000      1500000    2000000  "
      ]
     },
     "execution_count": 8,
     "metadata": {},
     "output_type": "execute_result"
    }
   ],
   "source": [
    "novo_df"
   ]
  },
  {
   "cell_type": "code",
   "execution_count": null,
   "id": "c2c1c538-b769-4781-abd9-f2ddb619bc5d",
   "metadata": {},
   "outputs": [],
   "source": []
  }
 ],
 "metadata": {
  "kernelspec": {
   "display_name": "Python 3 (ipykernel)",
   "language": "python",
   "name": "python3"
  },
  "language_info": {
   "codemirror_mode": {
    "name": "ipython",
    "version": 3
   },
   "file_extension": ".py",
   "mimetype": "text/x-python",
   "name": "python",
   "nbconvert_exporter": "python",
   "pygments_lexer": "ipython3",
   "version": "3.11.6"
  }
 },
 "nbformat": 4,
 "nbformat_minor": 5
}
