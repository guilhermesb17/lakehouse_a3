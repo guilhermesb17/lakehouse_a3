{
 "cells": [
  {
   "cell_type": "code",
   "execution_count": 1,
   "id": "4e6df7c8-a5d2-4f28-acdf-45fa8ae8cd6b",
   "metadata": {},
   "outputs": [],
   "source": [
    "from pyspark.sql import SparkSession, SQLContext\n",
    "import pyspark.sql.functions as f\n",
    "from pyspark.sql.functions import explode, col"
   ]
  },
  {
   "cell_type": "code",
   "execution_count": 2,
   "id": "733e76b1-02fa-4e6e-ac7b-efacdadc2574",
   "metadata": {},
   "outputs": [],
   "source": [
    "spark = SparkSession\\\n",
    "    .builder\\\n",
    "    .appName(\"TesteSpark\")\\\n",
    "    .getOrCreate()"
   ]
  },
  {
   "cell_type": "code",
   "execution_count": 3,
   "id": "bd3479b9-7bf5-43cc-9b2c-983c5ae3f576",
   "metadata": {},
   "outputs": [],
   "source": [
    "df = spark \\\n",
    "        .read \\\n",
    "        .option(\"multiline\", \"true\") \\\n",
    "        .json('teste.json')"
   ]
  },
  {
   "cell_type": "code",
   "execution_count": 4,
   "id": "6c2fa361-058a-4ac0-849d-74a8d3ff7465",
   "metadata": {},
   "outputs": [],
   "source": [
    "df_exploded = df.select(\n",
    "    col(\"data\"),\n",
    "    explode(col(\"vacinacao\")).alias(\"vacinacao\")\n",
    ").select(\n",
    "    col(\"data\"),\n",
    "    col(\"vacinacao.cidade\"),\n",
    "    col(\"vacinacao.estado\"),\n",
    "    col(\"vacinacao.total_vacinados\"),\n",
    "    col(\"vacinacao.doses.*\"),\n",
    "    col(\"vacinacao.vacinados_por_idade.*\")\n",
    ")"
   ]
  },
  {
   "cell_type": "code",
   "execution_count": 5,
   "id": "e8f79e74-5cd4-47df-9717-8a82bc2c6257",
   "metadata": {},
   "outputs": [
    {
     "name": "stdout",
     "output_type": "stream",
     "text": [
      "+----------+--------------+------+---------------+----------+-------------+------------+-------------+-------+-------+-------+-------+-------+\n",
      "|      data|        cidade|estado|total_vacinados|dose_unica|primeira_dose|segunda_dose|terceira_dose|  18-24|  25-34|  35-44|  45-54|    55+|\n",
      "+----------+--------------+------+---------------+----------+-------------+------------+-------------+-------+-------+-------+-------+-------+\n",
      "|2023-10-25|     São Paulo|    SP|       12000000|    200000|     11500000|    11000000|      1500000|1500000|3000000|2500000|2000000|3000000|\n",
      "|2023-10-25|Rio de Janeiro|    RJ|        9000000|    150000|      8500000|     8000000|      1000000|1000000|2500000|2000000|1500000|2000000|\n",
      "+----------+--------------+------+---------------+----------+-------------+------------+-------------+-------+-------+-------+-------+-------+\n",
      "\n"
     ]
    }
   ],
   "source": [
    "df_exploded.show()"
   ]
  },
  {
   "cell_type": "code",
   "execution_count": null,
   "id": "954bc5e4-46f0-461d-b6fc-c36263f81d4e",
   "metadata": {},
   "outputs": [],
   "source": []
  }
 ],
 "metadata": {
  "kernelspec": {
   "display_name": "Python 3 (ipykernel)",
   "language": "python",
   "name": "python3"
  },
  "language_info": {
   "codemirror_mode": {
    "name": "ipython",
    "version": 3
   },
   "file_extension": ".py",
   "mimetype": "text/x-python",
   "name": "python",
   "nbconvert_exporter": "python",
   "pygments_lexer": "ipython3",
   "version": "3.11.6"
  }
 },
 "nbformat": 4,
 "nbformat_minor": 5
}
